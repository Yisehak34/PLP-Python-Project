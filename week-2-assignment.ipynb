{
 "cells": [
  {
   "cell_type": "code",
   "execution_count": 1,
   "metadata": {},
   "outputs": [
    {
     "name": "stdout",
     "output_type": "stream",
     "text": [
      "Index of 30: 3\n",
      "Final list: [10, 15, 20, 30, 40, 50, 60]\n"
     ]
    }
   ],
   "source": [
    "# Step 1: Create an empty list\n",
    "my_list = []\n",
    "\n",
    "# Step 2: Append elements 10, 20, 30, 40\n",
    "my_list.append(10)\n",
    "my_list.append(20)\n",
    "my_list.append(30)\n",
    "my_list.append(40)\n",
    "\n",
    "# Step 3: Insert 15 at the second position (index 1)\n",
    "my_list.insert(1, 15)\n",
    "\n",
    "# Step 4: Extend my_list with [50, 60, 70]\n",
    "my_list.extend([50, 60, 70])\n",
    "\n",
    "# Step 5: Remove the last element\n",
    "my_list.pop()\n",
    "\n",
    "# Step 6: Sort the list in ascending order\n",
    "my_list.sort()\n",
    "\n",
    "# Step 7: Find and print the index of the value 30\n",
    "index_of_30 = my_list.index(30)\n",
    "print(\"Index of 30:\", index_of_30)\n",
    "\n",
    "# Optional: Print the final list\n",
    "print(\"Final list:\", my_list)\n"
   ]
  },
  {
   "cell_type": "code",
   "execution_count": null,
   "metadata": {},
   "outputs": [],
   "source": []
  }
 ],
 "metadata": {
  "kernelspec": {
   "display_name": "Python 3",
   "language": "python",
   "name": "python3"
  },
  "language_info": {
   "codemirror_mode": {
    "name": "ipython",
    "version": 3
   },
   "file_extension": ".py",
   "mimetype": "text/x-python",
   "name": "python",
   "nbconvert_exporter": "python",
   "pygments_lexer": "ipython3",
   "version": "3.8.5"
  }
 },
 "nbformat": 4,
 "nbformat_minor": 4
}

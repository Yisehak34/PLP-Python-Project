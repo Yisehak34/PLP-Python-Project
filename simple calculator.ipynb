{
 "cells": [
  {
   "cell_type": "markdown",
   "metadata": {},
   "source": [
    "# Instructions:\n",
    "\n",
    "Basic Calculator Program\n",
    "\n",
    "Create a simple Python program that asks the user to input two numbers and a mathematical operation (addition, subtraction, multiplication, or division).\n",
    "Perform the operation based on the user's input and print the result.\n",
    "Example: If a user inputs 10, 5, and +, your program should display 10 + 5 = 15"
   ]
  },
  {
   "cell_type": "code",
   "execution_count": 1,
   "metadata": {},
   "outputs": [
    {
     "name": "stdout",
     "output_type": "stream",
     "text": [
      "Enter the first number: 10\n",
      "Enter the second number: 5\n",
      "Choose an operation (+, -, *, /): +\n",
      "Result: 15.0\n"
     ]
    }
   ],
   "source": [
    "# Ask for the first number\n",
    "num1 = float(input(\"Enter the first number: \"))\n",
    "\n",
    "# Ask for the second number\n",
    "num2 = float(input(\"Enter the second number: \"))\n",
    "\n",
    "# Ask the user to choose an operation\n",
    "operation = input(\"Choose an operation (+, -, *, /): \")\n",
    "\n",
    "# Perform and print the result\n",
    "if operation == \"+\":\n",
    "    result = num1 + num2\n",
    "    print(\"Result:\", result)\n",
    "elif operation == \"-\":\n",
    "    result = num1 - num2\n",
    "    print(\"Result:\", result)\n",
    "elif operation == \"*\":\n",
    "    result = num1 * num2\n",
    "    print(\"Result:\", result)\n",
    "elif operation == \"/\":\n",
    "    if num2 != 0:\n",
    "        result = num1 / num2\n",
    "        print(\"Result:\", result)\n",
    "    else:\n",
    "        print(\"Error: Cannot divide by zero.\")\n",
    "else:\n",
    "    print(\"Invalid operation. Please choose one of +, -, *, or /.\")"
   ]
  },
  {
   "cell_type": "code",
   "execution_count": null,
   "metadata": {},
   "outputs": [],
   "source": []
  }
 ],
 "metadata": {
  "kernelspec": {
   "display_name": "Python 3",
   "language": "python",
   "name": "python3"
  },
  "language_info": {
   "codemirror_mode": {
    "name": "ipython",
    "version": 3
   },
   "file_extension": ".py",
   "mimetype": "text/x-python",
   "name": "python",
   "nbconvert_exporter": "python",
   "pygments_lexer": "ipython3",
   "version": "3.8.5"
  }
 },
 "nbformat": 4,
 "nbformat_minor": 4
}
